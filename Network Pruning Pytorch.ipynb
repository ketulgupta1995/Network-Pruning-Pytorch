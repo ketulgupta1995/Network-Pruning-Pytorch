{
 "cells": [
  {
   "cell_type": "code",
   "execution_count": 1,
   "metadata": {},
   "outputs": [
    {
     "data": {
      "text/plain": [
       "<torch.autograd.grad_mode.set_grad_enabled at 0x7f0709241ad0>"
      ]
     },
     "execution_count": 1,
     "metadata": {},
     "output_type": "execute_result"
    }
   ],
   "source": [
    "# import standard PyTorch modules\n",
    "import torch\n",
    "import torch.nn as nn\n",
    "import torch.nn.functional as F\n",
    "import torch.optim as optim\n",
    "\n",
    "# import torchvision module to handle image manipulation\n",
    "import torchvision\n",
    "import torchvision.transforms as transforms\n",
    "\n",
    "# calculate train time, writing train data to files etc.\n",
    "import time\n",
    "import pandas as pd\n",
    "import json\n",
    "from IPython.display import clear_output\n",
    "\n",
    "torch.set_printoptions(linewidth=120)\n",
    "torch.set_grad_enabled(True)  "
   ]
  },
  {
   "cell_type": "code",
   "execution_count": 2,
   "metadata": {},
   "outputs": [],
   "source": [
    "# Use standard FashionMNIST dataset\n",
    "train_set = torchvision.datasets.FashionMNIST(\n",
    "    root = './data/FashionMNIST',\n",
    "    train = True,\n",
    "    download = True,\n",
    "    transform = transforms.Compose([\n",
    "        transforms.ToTensor()                                 \n",
    "    ])\n",
    ")"
   ]
  },
  {
   "cell_type": "code",
   "execution_count": 3,
   "metadata": {},
   "outputs": [],
   "source": [
    "test_set = torchvision.datasets.FashionMNIST(\n",
    "    root = './data/FashionMNIST',\n",
    "    train = False,\n",
    "    download = True,\n",
    "    transform = transforms.Compose([\n",
    "        transforms.ToTensor()                                 \n",
    "    ])\n",
    ")"
   ]
  },
  {
   "cell_type": "markdown",
   "metadata": {},
   "source": [
    "# Creating,training,testing and saving model"
   ]
  },
  {
   "cell_type": "code",
   "execution_count": 4,
   "metadata": {},
   "outputs": [],
   "source": [
    "# Build the neural network, expand on top of nn.Module\n",
    "'''\n",
    "\n",
    "1. Read the Rules!\n",
    "2. Construct a ReLU-activated neural network with four hidden layers with sizes [1000, 1000,\n",
    "500, 200]. Note: you’ll have a fifth layer for your output logits, which you will have 10 of.\n",
    "3. Train your network on MNIST or Fashion-MNIST (your choice, whatever is easier)\n",
    "4. Prune away (set to zero) the k% of weights using weight and unit pruning for k in [0, 25,\n",
    "50, 60, 70, 80, 90, 95, 97, 99]. Remember not to prune the weights leading to the output\n",
    "logits.\n",
    "5. Create a table or plot showing the percent sparsity (number of weights in your network\n",
    "that are zero) versus percent accuracy with two curves (one for weight pruning and one\n",
    "for unit pruning).\n",
    "6. Make your code clean and readable. Add comments where needed.\n",
    "'''\n",
    "\n",
    "\n",
    "class AdaGradNetwork(nn.Module):\n",
    "  def __init__(self):\n",
    "    super(AdaGradNetwork, self).__init__()\n",
    "\n",
    "    # define layers\n",
    "    self.fc1 = nn.Linear(in_features=28*28, out_features=1000)\n",
    "    self.fc2 = nn.Linear(in_features=1000, out_features=1000)\n",
    "    self.fc3 = nn.Linear(in_features=1000, out_features=500)\n",
    "    self.fc4 = nn.Linear(in_features=500, out_features=200)\n",
    "    self.out = nn.Linear(in_features=200, out_features=10)\n",
    "\n",
    "  # define forward function\n",
    "  def forward(self, t):\n",
    "    # fc1  make input 1 dimentional\n",
    "    t = t.view(-1,28*28)\n",
    "    t = self.fc1(t)\n",
    "    t = F.relu(t)\n",
    "\n",
    "    # fc2\n",
    "    t = self.fc2(t)\n",
    "    t = F.relu(t)\n",
    "    \n",
    "    # fc3\n",
    "    t = self.fc3(t)\n",
    "    t = F.relu(t)\n",
    "\n",
    "    # fc4\n",
    "    t = self.fc4(t)\n",
    "    t = F.relu(t)\n",
    "    \n",
    "    # output\n",
    "    t = self.out(t)\n",
    "\n",
    "    return t"
   ]
  },
  {
   "cell_type": "code",
   "execution_count": 5,
   "metadata": {},
   "outputs": [
    {
     "name": "stdout",
     "output_type": "stream",
     "text": [
      "AdaGradNetwork(\n",
      "  (fc1): Linear(in_features=784, out_features=1000, bias=True)\n",
      "  (fc2): Linear(in_features=1000, out_features=1000, bias=True)\n",
      "  (fc3): Linear(in_features=1000, out_features=500, bias=True)\n",
      "  (fc4): Linear(in_features=500, out_features=200, bias=True)\n",
      "  (out): Linear(in_features=200, out_features=10, bias=True)\n",
      ")\n"
     ]
    }
   ],
   "source": [
    "myNN=AdaGradNetwork()\n",
    "print myNN"
   ]
  },
  {
   "cell_type": "code",
   "execution_count": 6,
   "metadata": {},
   "outputs": [],
   "source": [
    "loader = torch.utils.data.DataLoader(train_set, batch_size = 1000)\n",
    "optimizer = optim.Adam(myNN.parameters(), lr=0.01)\n",
    "creterion=nn.CrossEntropyLoss()  "
   ]
  },
  {
   "cell_type": "code",
   "execution_count": 7,
   "metadata": {},
   "outputs": [
    {
     "name": "stdout",
     "output_type": "stream",
     "text": [
      "[1,    10] loss: 2.981\n",
      "[1,    20] loss: 1.301\n",
      "[1,    30] loss: 0.802\n",
      "[1,    40] loss: 0.694\n",
      "[1,    50] loss: 0.598\n",
      "[1,    60] loss: 0.558\n",
      "[2,    10] loss: 0.518\n",
      "[2,    20] loss: 0.499\n",
      "[2,    30] loss: 0.474\n",
      "[2,    40] loss: 0.458\n",
      "[2,    50] loss: 0.444\n",
      "[2,    60] loss: 0.454\n",
      "[3,    10] loss: 0.426\n",
      "[3,    20] loss: 0.415\n",
      "[3,    30] loss: 0.395\n",
      "[3,    40] loss: 0.379\n",
      "[3,    50] loss: 0.389\n",
      "[3,    60] loss: 0.403\n",
      "[4,    10] loss: 0.386\n",
      "[4,    20] loss: 0.378\n",
      "[4,    30] loss: 0.357\n",
      "[4,    40] loss: 0.348\n",
      "[4,    50] loss: 0.366\n",
      "[4,    60] loss: 0.377\n",
      "[5,    10] loss: 0.360\n",
      "[5,    20] loss: 0.363\n",
      "[5,    30] loss: 0.339\n",
      "[5,    40] loss: 0.334\n",
      "[5,    50] loss: 0.346\n",
      "[5,    60] loss: 0.354\n",
      "Finished Training\n"
     ]
    }
   ],
   "source": [
    "for epoch in range(5):  # loop over the dataset multiple times\n",
    "\n",
    "    running_loss = 0.0\n",
    "    for i, data in enumerate(loader, 0):\n",
    "        # get the inputs; data is a list of [inputs, labels]\n",
    "        inputs, labels = data\n",
    "        # zero the parameter gradients\n",
    "        optimizer.zero_grad()\n",
    "\n",
    "        # forward + backward + optimize\n",
    "        outputs = myNN(inputs)\n",
    "#         print outputs[0]\n",
    "#         print outputs.size()\n",
    "#         print  labels.size()\n",
    "        loss = creterion(outputs, labels)\n",
    "        loss.backward()\n",
    "        optimizer.step()\n",
    "\n",
    "        # print statistics\n",
    "        running_loss += loss.item()\n",
    "        if i % 10 == 9:    # print every 10 mini-batches\n",
    "            print('[%d, %5d] loss: %.3f' %\n",
    "                  (epoch + 1, i + 1, running_loss / 10))\n",
    "            running_loss = 0.0\n",
    "\n",
    "print('Finished Training')"
   ]
  },
  {
   "cell_type": "code",
   "execution_count": 8,
   "metadata": {},
   "outputs": [],
   "source": [
    "torch.save(myNN.state_dict(), \"./nn5epochs.pt\")"
   ]
  },
  {
   "cell_type": "code",
   "execution_count": 10,
   "metadata": {},
   "outputs": [],
   "source": [
    "testloader = torch.utils.data.DataLoader(test_set, batch_size=4)"
   ]
  },
  {
   "cell_type": "code",
   "execution_count": 11,
   "metadata": {},
   "outputs": [
    {
     "name": "stdout",
     "output_type": "stream",
     "text": [
      "Accuracy of the network on the 10000 test images: 84 %\n"
     ]
    }
   ],
   "source": [
    "correct = 0\n",
    "total = 0\n",
    "with torch.no_grad():\n",
    "    for data in testloader:\n",
    "        images, labels = data\n",
    "        outputs = myNN(images)\n",
    "        _, predicted = torch.max(outputs.data, 1)\n",
    "        total += labels.size(0)\n",
    "        correct += (predicted == labels).sum().item()\n",
    "\n",
    "print('Accuracy of the network on the 10000 test images: %d %%' % (\n",
    "    100 * correct / total))"
   ]
  },
  {
   "cell_type": "code",
   "execution_count": 12,
   "metadata": {},
   "outputs": [],
   "source": [
    "import matplotlib.pyplot as plt\n",
    "import numpy as np"
   ]
  },
  {
   "cell_type": "code",
   "execution_count": 13,
   "metadata": {},
   "outputs": [
    {
     "data": {
      "text/plain": [
       "<All keys matched successfully>"
      ]
     },
     "execution_count": 13,
     "metadata": {},
     "output_type": "execute_result"
    }
   ],
   "source": [
    "myNN.load_state_dict(torch.load(\"./nn5epochs.pt\"))"
   ]
  },
  {
   "cell_type": "markdown",
   "metadata": {},
   "source": [
    "# Unit Pruning"
   ]
  },
  {
   "cell_type": "markdown",
   "metadata": {},
   "source": [
    "#### Calculate masks for first four layers for all percentiles"
   ]
  },
  {
   "cell_type": "code",
   "execution_count": 14,
   "metadata": {},
   "outputs": [
    {
     "name": "stdout",
     "output_type": "stream",
     "text": [
      "0\n",
      "25\n",
      "50\n",
      "60\n",
      "70\n",
      "80\n",
      "90\n",
      "95\n",
      "97\n",
      "99\n"
     ]
    }
   ],
   "source": [
    "all_percentiles=[0, 25,50, 60, 70, 80, 90, 95, 97, 99]\n",
    "all_percentiles_masks=[]\n",
    "\n",
    "for perc in all_percentiles:\n",
    "    masks=[]\n",
    "    print perc\n",
    "    for i,p in enumerate(myNN.parameters(),0):\n",
    "#     print p.size()\n",
    "        if len(p.size()) >1 and i<8:\n",
    "            norms=torch.norm(p.data,dim=1)#l2 norms\n",
    "            percentile=np.percentile(np.array(norms),perc)\n",
    "            unit_mask=norms.abs()>percentile\n",
    "            masks.append(unit_mask.float().view(-1,1).repeat([1,p.size()[1]]))\n",
    "    all_percentiles_masks.append(masks)"
   ]
  },
  {
   "cell_type": "markdown",
   "metadata": {},
   "source": [
    "#### Apply mask to each weights tensor and test accuracy for each percentile"
   ]
  },
  {
   "cell_type": "code",
   "execution_count": 16,
   "metadata": {},
   "outputs": [
    {
     "name": "stdout",
     "output_type": "stream",
     "text": [
      "Number of zero weights: 0\n",
      " Accuracy of the network on the 10000 test images: 84 %\n",
      "Number of zero weights: 592716\n",
      " Accuracy of the network on the 10000 test images: 84 %\n",
      "Number of zero weights: 1188716\n",
      " Accuracy of the network on the 10000 test images: 82 %\n",
      "Number of zero weights: 1427116\n",
      " Accuracy of the network on the 10000 test images: 80 %\n",
      "Number of zero weights: 1665516\n",
      " Accuracy of the network on the 10000 test images: 70 %\n",
      "Number of zero weights: 1903916\n",
      " Accuracy of the network on the 10000 test images: 49 %\n",
      "Number of zero weights: 2142316\n",
      " Accuracy of the network on the 10000 test images: 28 %\n",
      "Number of zero weights: 2261516\n",
      " Accuracy of the network on the 10000 test images: 11 %\n",
      "Number of zero weights: 2309196\n",
      " Accuracy of the network on the 10000 test images: 11 %\n",
      "Number of zero weights: 2356876\n",
      " Accuracy of the network on the 10000 test images: 10 %\n"
     ]
    }
   ],
   "source": [
    "zero_weights_count=[]\n",
    "accuracy_count=[]\n",
    "for masks in all_percentiles_masks:\n",
    "    myNN.load_state_dict(torch.load(\"./nn5epochs.pt\"))\n",
    "    mcount=0\n",
    "    zero_weights=0\n",
    "    for i,p in enumerate(myNN.parameters(),0):\n",
    "    #     print p.size()[0]\n",
    "        if len(p.size()) >1 and i<8:\n",
    "            zero_weights+=np.count_nonzero(all_percentiles_masks[0][mcount].numpy())-np.count_nonzero(masks[mcount].numpy())\n",
    "            p.data=p.data*masks[mcount]\n",
    "            mcount+=1\n",
    "    correct = 0\n",
    "    total = 0\n",
    "    with torch.no_grad():\n",
    "        for data in testloader:\n",
    "            images, labels = data\n",
    "            outputs = myNN(images)\n",
    "            _, predicted = torch.max(outputs.data, 1)\n",
    "            total += labels.size(0)\n",
    "            correct += (predicted == labels).sum().item()\n",
    "    zero_weights_count.append(zero_weights)\n",
    "    accuracy_count.append(100 * correct / total)\n",
    "    print( \"Number of zero weights: \"+str(zero_weights))\n",
    "    print(' Accuracy of the network on the 10000 test images: %d %%' % (\n",
    "        100 * correct / total))"
   ]
  },
  {
   "cell_type": "code",
   "execution_count": 17,
   "metadata": {},
   "outputs": [
    {
     "data": {
      "image/png": "[encoded data removed]",
      "text/plain": [
       "<Figure size 432x288 with 1 Axes>"
      ]
     },
     "metadata": {
      "needs_background": "light"
     },
     "output_type": "display_data"
    }
   ],
   "source": [
    "plt.plot(zero_weights_count,accuracy_count)\n",
    "plt.xlabel(\"number of zero weights\")\n",
    "plt.title(\"Unit Pruning\")\n",
    "plt.ylabel(\"Accuracy %\")\n",
    "plt.show()"
   ]
  },
  {
   "cell_type": "markdown",
   "metadata": {},
   "source": [
    "# Weight Pruning"
   ]
  },
  {
   "cell_type": "markdown",
   "metadata": {},
   "source": [
    "#### get weights of first four layers and set mask matrix to zero for weight below given percentile "
   ]
  },
  {
   "cell_type": "code",
   "execution_count": 22,
   "metadata": {},
   "outputs": [
    {
     "data": {
      "text/plain": [
       "<All keys matched successfully>"
      ]
     },
     "execution_count": 22,
     "metadata": {},
     "output_type": "execute_result"
    }
   ],
   "source": [
    "myNN.load_state_dict(torch.load(\"./nn5epochs.pt\"))"
   ]
  },
  {
   "cell_type": "code",
   "execution_count": 23,
   "metadata": {},
   "outputs": [],
   "source": [
    "all_weights =[]\n",
    "for i,p in enumerate(myNN.parameters(),0):\n",
    "#     print p.size()[0]\n",
    "    if len(p.size()) >1 and i<8:\n",
    "        all_weights+=list(p.cpu().data.abs().numpy().flatten())\n",
    "#         print p.view(-1,p.size()[0]*p.size()[1]).\n",
    "#     print i"
   ]
  },
  {
   "cell_type": "code",
   "execution_count": 24,
   "metadata": {},
   "outputs": [],
   "source": [
    "threshholds=np.percentile(np.array(all_weights),[0, 25,\n",
    "50, 60, 70, 80, 90, 95, 97, 99])"
   ]
  },
  {
   "cell_type": "code",
   "execution_count": 25,
   "metadata": {},
   "outputs": [],
   "source": [
    "myNN.load_state_dict(torch.load(\"./nn5epochs.pt\"))\n",
    "masks_for_all_thresholds=[]\n",
    "for threshold in threshholds:\n",
    "    masks=[]\n",
    "    for i,p in enumerate(myNN.parameters(),0):\n",
    "    #     print p.size()[0]\n",
    "        if len(p.size()) >1 and i<8:\n",
    "            pruned_inds = p.data.abs() > threshold\n",
    "            masks.append(pruned_inds.float())\n",
    "    masks_for_all_thresholds.append(masks)"
   ]
  },
  {
   "cell_type": "markdown",
   "metadata": {},
   "source": [
    "#### Apply mask to each weights tensor and test accuracy for each percentile"
   ]
  },
  {
   "cell_type": "code",
   "execution_count": 26,
   "metadata": {},
   "outputs": [
    {
     "name": "stdout",
     "output_type": "stream",
     "text": [
      "Number of zero weights: 0\n",
      " Accuracy of the network on the 10000 test images: 84 %\n",
      "Number of zero weights: 595999\n",
      " Accuracy of the network on the 10000 test images: 83 %\n",
      "Number of zero weights: 1191999\n",
      " Accuracy of the network on the 10000 test images: 82 %\n",
      "Number of zero weights: 1430399\n",
      " Accuracy of the network on the 10000 test images: 81 %\n",
      "Number of zero weights: 1668799\n",
      " Accuracy of the network on the 10000 test images: 79 %\n",
      "Number of zero weights: 1907200\n",
      " Accuracy of the network on the 10000 test images: 74 %\n",
      "Number of zero weights: 2145599\n",
      " Accuracy of the network on the 10000 test images: 66 %\n",
      "Number of zero weights: 2264799\n",
      " Accuracy of the network on the 10000 test images: 60 %\n",
      "Number of zero weights: 2312479\n",
      " Accuracy of the network on the 10000 test images: 48 %\n",
      "Number of zero weights: 2360159\n",
      " Accuracy of the network on the 10000 test images: 19 %\n"
     ]
    }
   ],
   "source": [
    "zero_weights_count2=[]\n",
    "accuracy_count2=[]\n",
    "for masks in masks_for_all_thresholds:\n",
    "    myNN.load_state_dict(torch.load(\"./nn5epochs.pt\"))\n",
    "    mcount=0\n",
    "    zero_weights=0\n",
    "    for i,p in enumerate(myNN.parameters(),0):\n",
    "    #     print p.size()[0]\n",
    "        if len(p.size()) >1 and i<8:\n",
    "            zero_weights+=np.count_nonzero(masks_for_all_thresholds[0][mcount].numpy())-np.count_nonzero(masks[mcount].numpy())\n",
    "            p.data=p.data*masks[mcount]\n",
    "            mcount+=1\n",
    "    correct = 0\n",
    "    total = 0\n",
    "    with torch.no_grad():\n",
    "        for data in testloader:\n",
    "            images, labels = data\n",
    "            outputs = myNN(images)\n",
    "            _, predicted = torch.max(outputs.data, 1)\n",
    "            total += labels.size(0)\n",
    "            correct += (predicted == labels).sum().item()\n",
    "    zero_weights_count2.append(zero_weights)\n",
    "    accuracy_count2.append( 100 * correct / total)\n",
    "\n",
    "    print( \"Number of zero weights: \"+str(zero_weights))\n",
    "    print(' Accuracy of the network on the 10000 test images: %d %%' % (\n",
    "        100 * correct / total))\n",
    "    "
   ]
  },
  {
   "cell_type": "code",
   "execution_count": 27,
   "metadata": {},
   "outputs": [
    {
     "data": {
      "image/png": "[encoded data removed]",
      "text/plain": [
       "<Figure size 432x288 with 1 Axes>"
      ]
     },
     "metadata": {
      "needs_background": "light"
     },
     "output_type": "display_data"
    }
   ],
   "source": [
    "plt.plot(zero_weights_count2,accuracy_count2)\n",
    "plt.xlabel(\"number of zero weights\")\n",
    "plt.title(\"Weight Pruning\")\n",
    "plt.ylabel(\"Accuracy %\")\n",
    "plt.show()"
   ]
  },
  {
   "cell_type": "markdown",
   "metadata": {},
   "source": [
    "# Plot to get comparision of unit and weight pruning "
   ]
  },
  {
   "cell_type": "code",
   "execution_count": 35,
   "metadata": {},
   "outputs": [
    {
     "data": {
      "image/png": "[encoded data removed]",
      "text/plain": [
       "<Figure size 432x288 with 1 Axes>"
      ]
     },
     "metadata": {
      "needs_background": "light"
     },
     "output_type": "display_data"
    }
   ],
   "source": [
    "plt.plot(zero_weights_count,accuracy_count,label=\"unit pruning\")\n",
    "plt.plot(zero_weights_count2,accuracy_count2,label='weight pruning')\n",
    "plt.legend()\n",
    "plt.show()"
   ]
  },
  {
   "cell_type": "code",
   "execution_count": null,
   "metadata": {},
   "outputs": [],
   "source": []
  },
  {
   "cell_type": "code",
   "execution_count": null,
   "metadata": {},
   "outputs": [],
   "source": []
  }
 ],
 "metadata": {
  "kernelspec": {
   "display_name": "Python 2",
   "language": "python",
   "name": "python2"
  },
  "language_info": {
   "codemirror_mode": {
    "name": "ipython",
    "version": 2
   },
   "file_extension": ".py",
   "mimetype": "text/x-python",
   "name": "python",
   "nbconvert_exporter": "python",
   "pygments_lexer": "ipython2",
   "version": "2.7.15rc1"
  }
 },
 "nbformat": 4,
 "nbformat_minor": 2
}
